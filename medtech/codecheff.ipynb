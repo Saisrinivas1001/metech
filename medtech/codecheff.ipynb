{
 "cells": [
  {
   "cell_type": "code",
   "execution_count": 9,
   "metadata": {},
   "outputs": [
    {
     "name": "stdout",
     "output_type": "stream",
     "text": [
      "20000\n",
      "300\n",
      "2040000\n",
      "10000\n"
     ]
    }
   ],
   "source": [
    "# cook your dish here\n",
    "for _ in range(int(input())):\n",
    "    t,mn,sn=map(int,input().split(' '))\n",
    "    k=0\n",
    "    while(sn>0 and t>0):\n",
    "        if(sn-mn>0):\n",
    "            sn-=mn\n",
    "            k+=mn*mn\n",
    "        else:\n",
    "            k+=sn*sn\n",
    "            sn=0\n",
    "        t-=1\n",
    "    print(k)"
   ]
  },
  {
   "cell_type": "code",
   "execution_count": 2,
   "metadata": {},
   "outputs": [
    {
     "name": "stdout",
     "output_type": "stream",
     "text": [
      "10 20 0\n"
     ]
    }
   ],
   "source": [
    "print(t,mn,sn)"
   ]
  },
  {
   "cell_type": "code",
   "execution_count": 9,
   "metadata": {},
   "outputs": [],
   "source": [
    "#for _ in range(int(input())):\n",
    "n=int(input())\n",
    "s=input()\n",
    "k=[]\n",
    "j=0\n",
    "a = set('bcdfghjklmnpqrstvwxyz')\n",
    "for i in s:\n",
    "    if i in a:\n",
    "        k.append(j)\n",
    "    j=j+1"
   ]
  },
  {
   "cell_type": "code",
   "execution_count": 10,
   "metadata": {},
   "outputs": [
    {
     "data": {
      "text/plain": [
       "[0, 2, 3]"
      ]
     },
     "execution_count": 10,
     "metadata": {},
     "output_type": "execute_result"
    }
   ],
   "source": [
    "k"
   ]
  }
 ],
 "metadata": {
  "kernelspec": {
   "display_name": "base",
   "language": "python",
   "name": "python3"
  },
  "language_info": {
   "codemirror_mode": {
    "name": "ipython",
    "version": 3
   },
   "file_extension": ".py",
   "mimetype": "text/x-python",
   "name": "python",
   "nbconvert_exporter": "python",
   "pygments_lexer": "ipython3",
   "version": "3.9.12"
  },
  "orig_nbformat": 4
 },
 "nbformat": 4,
 "nbformat_minor": 2
}
