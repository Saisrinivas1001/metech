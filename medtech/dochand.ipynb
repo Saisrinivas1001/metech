{
 "cells": [
  {
   "cell_type": "code",
   "execution_count": 50,
   "metadata": {},
   "outputs": [],
   "source": [
    "from flask import Flask,render_template,request\n",
    "import numpy as np\n",
    "import pickle\n",
    "import pandas as pd\n",
    "import numpy as np\n",
    "import difflib\n",
    "import requests\n",
    "from bs4 import BeautifulSoup\n",
    "import os, io\n",
    "from google.cloud import vision\n",
    "from google.cloud.vision_v1 import types\n",
    "from matplotlib import pyplot as plt\n",
    "import requests\n",
    "from bs4 import BeautifulSoup"
   ]
  },
  {
   "cell_type": "code",
   "execution_count": 51,
   "metadata": {},
   "outputs": [],
   "source": [
    "medlist=pd.read_csv(\"C:/Users/Chinnnolla Koteshwar/Downloads/A_Z_medicines_dataset_of_India.csv\")"
   ]
  },
  {
   "cell_type": "code",
   "execution_count": 52,
   "metadata": {},
   "outputs": [],
   "source": [
    "def prescription(pres):\n",
    "    os.environ['GOOGLE_APPLICATION_CREDENTIALS'] = r'hedapi-c8de5a32fd12.json'\n",
    "    client = vision.ImageAnnotatorClient()\n",
    "    FILE_PATH =pres\n",
    "    with io.open(FILE_PATH, 'rb') as image_file:\n",
    "        content = image_file.read()\n",
    "    image = vision.Image(content=content)\n",
    "    response = client.document_text_detection(image=image)\n",
    "    docText = response.full_text_annotation.text\n",
    "    return docText"
   ]
  },
  {
   "cell_type": "code",
   "execution_count": 53,
   "metadata": {},
   "outputs": [],
   "source": [
    "pres=input()\n",
    "txt=prescription(pres)"
   ]
  },
  {
   "cell_type": "code",
   "execution_count": 54,
   "metadata": {},
   "outputs": [],
   "source": [
    "k=np.array(medlist['short_composition1'])"
   ]
  },
  {
   "cell_type": "code",
   "execution_count": 55,
   "metadata": {},
   "outputs": [],
   "source": [
    "a=[]\n",
    "a.append(txt.split(\" \"))"
   ]
  },
  {
   "cell_type": "code",
   "execution_count": 56,
   "metadata": {},
   "outputs": [],
   "source": [
    "h=[]\n",
    "for i in a:\n",
    "    h.append(difflib.get_close_matches(i,k,4,0.0))"
   ]
  },
  {
   "cell_type": "code",
   "execution_count": 57,
   "metadata": {},
   "outputs": [
    {
     "data": {
      "text/plain": [
       "[['silver nano particles (20mcg)',\n",
       "  'silver nano particles (0.002% w/w)',\n",
       "  'silver nano particles (0.002% w/w)',\n",
       "  'silver nano particles (0.002% w/w)']]"
      ]
     },
     "execution_count": 57,
     "metadata": {},
     "output_type": "execute_result"
    }
   ],
   "source": [
    "h"
   ]
  },
  {
   "cell_type": "code",
   "execution_count": 58,
   "metadata": {},
   "outputs": [
    {
     "data": {
      "text/plain": [
       "[['1)', 'calfel-', 'og\\n1-1-1\\n2)', 'sitiboiling-\\n1-1-1']]"
      ]
     },
     "execution_count": 58,
     "metadata": {},
     "output_type": "execute_result"
    }
   ],
   "source": [
    "a"
   ]
  },
  {
   "cell_type": "code",
   "execution_count": 59,
   "metadata": {},
   "outputs": [
    {
     "data": {
      "text/plain": [
       "'1) calfel- og\\n1-1-1\\n2) sitiboiling-\\n1-1-1'"
      ]
     },
     "execution_count": 59,
     "metadata": {},
     "output_type": "execute_result"
    }
   ],
   "source": [
    "txt"
   ]
  }
 ],
 "metadata": {
  "kernelspec": {
   "display_name": "base",
   "language": "python",
   "name": "python3"
  },
  "language_info": {
   "codemirror_mode": {
    "name": "ipython",
    "version": 3
   },
   "file_extension": ".py",
   "mimetype": "text/x-python",
   "name": "python",
   "nbconvert_exporter": "python",
   "pygments_lexer": "ipython3",
   "version": "3.9.12"
  },
  "orig_nbformat": 4,
  "vscode": {
   "interpreter": {
    "hash": "b675168525ba0a932ead71e7b882d73c655b942e699b01c95318e9e6721acfe6"
   }
  }
 },
 "nbformat": 4,
 "nbformat_minor": 2
}
